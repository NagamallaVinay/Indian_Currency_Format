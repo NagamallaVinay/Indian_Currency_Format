{
  "nbformat": 4,
  "nbformat_minor": 0,
  "metadata": {
    "colab": {
      "provenance": [],
      "authorship_tag": "ABX9TyMLiBTgHzDuuoM3Jo4jBKqy",
      "include_colab_link": true
    },
    "kernelspec": {
      "name": "python3",
      "display_name": "Python 3"
    },
    "language_info": {
      "name": "python"
    }
  },
  "cells": [
    {
      "cell_type": "markdown",
      "metadata": {
        "id": "view-in-github",
        "colab_type": "text"
      },
      "source": [
        "<a href=\"https://colab.research.google.com/github/NagamallaVinay/Indian_Currency_Format/blob/main/Indian_currency_format.ipynb\" target=\"_parent\"><img src=\"https://colab.research.google.com/assets/colab-badge.svg\" alt=\"Open In Colab\"/></a>"
      ]
    },
    {
      "cell_type": "code",
      "execution_count": 10,
      "metadata": {
        "colab": {
          "base_uri": "https://localhost:8080/"
        },
        "id": "nA9BZjkVn1FA",
        "outputId": "25fceab6-07f0-457c-aaad-72ce3ce62718"
      },
      "outputs": [
        {
          "output_type": "stream",
          "name": "stdout",
          "text": [
            "98765.432109883\n",
            "98,765.432109883\n"
          ]
        }
      ],
      "source": [
        "#Problem Statement : Write code that takes as input a floating point number & returns an indian number string representation with commas separating the digits.\n",
        "\n",
        "def Indian_currency_format(number):\n",
        "    number = str(number)\n",
        "    if '.' in number:\n",
        "        integer, decimal = number.split('.')\n",
        "    else:\n",
        "        integer, decimal = number, ''\n",
        "\n",
        "    if len(integer) <= 3:\n",
        "        result = integer\n",
        "    else:\n",
        "        result = integer[-3:]\n",
        "        integer = integer[:-3]\n",
        "        while len(integer) > 0:\n",
        "            result = integer[-2:] + ',' + result\n",
        "            integer = integer[:-2]\n",
        "\n",
        "    #return result + ('.' + decimal if decimal else '')\n",
        "    if decimal:\n",
        "       result += '.' + decimal\n",
        "    return result\n",
        "\n",
        "\n",
        "print(Indian_currency_format(float(input())))\n"
      ]
    }
  ]
}